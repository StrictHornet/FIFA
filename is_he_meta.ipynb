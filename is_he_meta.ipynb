{
  "nbformat": 4,
  "nbformat_minor": 0,
  "metadata": {
    "colab": {
      "provenance": [],
      "authorship_tag": "ABX9TyOta9imN1DvTdHwh8EPoq6m",
      "include_colab_link": true
    },
    "kernelspec": {
      "name": "python3",
      "display_name": "Python 3"
    },
    "language_info": {
      "name": "python"
    }
  },
  "cells": [
    {
      "cell_type": "markdown",
      "metadata": {
        "id": "view-in-github",
        "colab_type": "text"
      },
      "source": [
        "<a href=\"https://colab.research.google.com/github/StrictHornet/FIFA/blob/main/is_he_meta.ipynb\" target=\"_parent\"><img src=\"https://colab.research.google.com/assets/colab-badge.svg\" alt=\"Open In Colab\"/></a>"
      ]
    },
    {
      "cell_type": "code",
      "execution_count": null,
      "metadata": {
        "id": "Xt-47HEEgxAJ"
      },
      "outputs": [],
      "source": [
        "import pandas as pd"
      ]
    },
    {
      "cell_type": "code",
      "source": [
        "dataset = pd.read_csv(\"fut.csv\")\n",
        "\n",
        "print(dataset.head(5))"
      ],
      "metadata": {
        "colab": {
          "base_uri": "https://localhost:8080/"
        },
        "id": "6Zgsx-SxhCEi",
        "outputId": "d02946e0-b1f0-4879-d132-b23f188ac8b7"
      },
      "execution_count": null,
      "outputs": [
        {
          "output_type": "stream",
          "name": "stdout",
          "text": [
            "   ID       PlayerName  Rating       Club  Nation NationTop  \\\n",
            "0   1             Pelé      98  FUT ICONS  Brazil    Brazil   \n",
            "1   2          Ronaldo      96  FUT ICONS  Brazil    Brazil   \n",
            "2   3  Zinedine Zidane      96  FUT ICONS  France    France   \n",
            "3   4             Pelé      96  FUT ICONS  Brazil    Brazil   \n",
            "4   5             Pelé      95  FUT ICONS  Brazil    Brazil   \n",
            "\n",
            "                      Card League LeagueTop  SkillMoves  ...  GK_Kicking  \\\n",
            "0     fut23 icon gold rare    ICN       ICN           5  ...         NaN   \n",
            "1     fut23 icon gold rare    ICN       ICN           5  ...         NaN   \n",
            "2     fut23 icon gold rare    ICN       ICN           5  ...         NaN   \n",
            "3  fut23 wc icon gold rare    ICN       ICN           5  ...         NaN   \n",
            "4     fut23 icon gold rare    ICN       ICN           5  ...         NaN   \n",
            "\n",
            "  GK_REFLEXES GK_Reflexes GK_SPEED GK_Acceleration  GK_SprintSpeed  \\\n",
            "0         NaN         NaN      NaN             NaN             NaN   \n",
            "1         NaN         NaN      NaN             NaN             NaN   \n",
            "2         NaN         NaN      NaN             NaN             NaN   \n",
            "3         NaN         NaN      NaN             NaN             NaN   \n",
            "4         NaN         NaN      NaN             NaN             NaN   \n",
            "\n",
            "   GK_POSITIONING  GK_Positioning   isGK  \\\n",
            "0             NaN             NaN  False   \n",
            "1             NaN             NaN  False   \n",
            "2             NaN             NaN  False   \n",
            "3             NaN             NaN  False   \n",
            "4             NaN             NaN  False   \n",
            "\n",
            "                                PlayerURL  \n",
            "0     https://www.futbin.com/23/player/62  \n",
            "1    https://www.futbin.com/23/player/265  \n",
            "2    https://www.futbin.com/23/player/303  \n",
            "3  https://www.futbin.com/23/player/50235  \n",
            "4     https://www.futbin.com/23/player/63  \n",
            "\n",
            "[5 rows x 76 columns]\n"
          ]
        }
      ]
    },
    {
      "cell_type": "code",
      "source": [
        "top_player_stats = dataset.loc[:0, ['PlayerName', 'Rating', 'SkillMoves', 'WeakFoot', 'PAC', 'SHO', 'PAS', 'DRI', 'DEF', 'PHY']]\n",
        "print(top_player_stats)"
      ],
      "metadata": {
        "colab": {
          "base_uri": "https://localhost:8080/"
        },
        "id": "zFxuYzhZiZm-",
        "outputId": "ce72762e-0567-4f9f-f712-83efa92810f8"
      },
      "execution_count": null,
      "outputs": [
        {
          "output_type": "stream",
          "name": "stdout",
          "text": [
            "  PlayerName  Rating  SkillMoves  WeakFoot  PAC  SHO  PAS  DRI  DEF  PHY\n",
            "0       Pelé      98           5         4   95   96   93   96   60   76\n"
          ]
        }
      ]
    },
    {
      "cell_type": "code",
      "source": [
        "stat = \"SprintSpeed\"\n",
        "perfect_stat = dataset #.loc[:, ['PlayerName', 'Rating']]\n",
        "perfect_stat = perfect_stat.drop(perfect_stat[perfect_stat.Card != \"fut23 gold rare\"].index)\n",
        "perfect_stat = perfect_stat.sort_values(by = stat, ascending = False)\n",
        "print(perfect_stat.head(20)[[\"PlayerName\", stat, \"Rating\"]])\n",
        "# for val in perfect_stat:\n",
        "#   if val[6] != 'fut23 gold rare':\n",
        "#     perfect_stat.drop(val)\n",
        "# print(perfect_stat.loc[:5, ['PlayerName', 'Rating', 'Agility']])"
      ],
      "metadata": {
        "colab": {
          "base_uri": "https://localhost:8080/"
        },
        "id": "phUZtTSHlOok",
        "outputId": "9073ce28-80c2-4666-ea8b-0f3f8719a545"
      },
      "execution_count": null,
      "outputs": [
        {
          "output_type": "stream",
          "name": "stdout",
          "text": [
            "              PlayerName  SprintSpeed  Rating\n",
            "117        Kylian Mbappé           97      91\n",
            "1829        Adama Traoré           96      79\n",
            "3141  Jeremiah St. Juste           96      76\n",
            "2696        Daniel James           95      77\n",
            "3122     Sheraldo Becker           95      76\n",
            "602      Vinícius Júnior           95      86\n",
            "3230    Frank Acheampong           94      76\n",
            "2679        Ismaïla Sarr           94      77\n",
            "791          Kyle Walker           94      85\n",
            "1392      Iñaki Williams           94      81\n",
            "367       Erling Haaland           94      88\n",
            "787       Theo Hernández           94      85\n",
            "1122      Victor Osimhen           93      83\n",
            "3367        Zaidu Sanusi           93      76\n",
            "886      Alphonso Davies           93      84\n",
            "1428      Hirving Lozano           93      81\n",
            "1596    Jeremie Frimpong           93      80\n",
            "1103     Ousmane Dembélé           93      83\n",
            "911        Achraf Hakimi           93      84\n",
            "3507         Noah Okafor           93      75\n"
          ]
        }
      ]
    }
  ]
}