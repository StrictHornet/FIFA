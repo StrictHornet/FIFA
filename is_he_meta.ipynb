{
  "nbformat": 4,
  "nbformat_minor": 0,
  "metadata": {
    "colab": {
      "provenance": [],
      "authorship_tag": "ABX9TyNWsjJnnG96vCe+k8JxGHvs",
      "include_colab_link": true
    },
    "kernelspec": {
      "name": "python3",
      "display_name": "Python 3"
    },
    "language_info": {
      "name": "python"
    }
  },
  "cells": [
    {
      "cell_type": "markdown",
      "metadata": {
        "id": "view-in-github",
        "colab_type": "text"
      },
      "source": [
        "<a href=\"https://colab.research.google.com/github/StrictHornet/FIFA/blob/main/is_he_meta.ipynb\" target=\"_parent\"><img src=\"https://colab.research.google.com/assets/colab-badge.svg\" alt=\"Open In Colab\"/></a>"
      ]
    },
    {
      "cell_type": "code",
      "execution_count": 1,
      "metadata": {
        "id": "Xt-47HEEgxAJ"
      },
      "outputs": [],
      "source": [
        "import pandas as pd"
      ]
    },
    {
      "cell_type": "code",
      "source": [
        "dataset = pd.read_csv(\"fut.csv\")\n",
        "\n",
        "print(dataset.head(5))"
      ],
      "metadata": {
        "colab": {
          "base_uri": "https://localhost:8080/"
        },
        "id": "6Zgsx-SxhCEi",
        "outputId": "2fd3a659-0d2c-4ae0-b981-351e8628af65"
      },
      "execution_count": 2,
      "outputs": [
        {
          "output_type": "stream",
          "name": "stdout",
          "text": [
            "   ID       PlayerName  Rating       Club  Nation NationTop  \\\n",
            "0   1             Pelé      98  FUT ICONS  Brazil    Brazil   \n",
            "1   2          Ronaldo      96  FUT ICONS  Brazil    Brazil   \n",
            "2   3  Zinedine Zidane      96  FUT ICONS  France    France   \n",
            "3   4             Pelé      96  FUT ICONS  Brazil    Brazil   \n",
            "4   5             Pelé      95  FUT ICONS  Brazil    Brazil   \n",
            "\n",
            "                      Card League LeagueTop  SkillMoves  ...  GK_Kicking  \\\n",
            "0     fut23 icon gold rare    ICN       ICN           5  ...         NaN   \n",
            "1     fut23 icon gold rare    ICN       ICN           5  ...         NaN   \n",
            "2     fut23 icon gold rare    ICN       ICN           5  ...         NaN   \n",
            "3  fut23 wc icon gold rare    ICN       ICN           5  ...         NaN   \n",
            "4     fut23 icon gold rare    ICN       ICN           5  ...         NaN   \n",
            "\n",
            "  GK_REFLEXES GK_Reflexes GK_SPEED GK_Acceleration  GK_SprintSpeed  \\\n",
            "0         NaN         NaN      NaN             NaN             NaN   \n",
            "1         NaN         NaN      NaN             NaN             NaN   \n",
            "2         NaN         NaN      NaN             NaN             NaN   \n",
            "3         NaN         NaN      NaN             NaN             NaN   \n",
            "4         NaN         NaN      NaN             NaN             NaN   \n",
            "\n",
            "   GK_POSITIONING  GK_Positioning   isGK  \\\n",
            "0             NaN             NaN  False   \n",
            "1             NaN             NaN  False   \n",
            "2             NaN             NaN  False   \n",
            "3             NaN             NaN  False   \n",
            "4             NaN             NaN  False   \n",
            "\n",
            "                                PlayerURL  \n",
            "0     https://www.futbin.com/23/player/62  \n",
            "1    https://www.futbin.com/23/player/265  \n",
            "2    https://www.futbin.com/23/player/303  \n",
            "3  https://www.futbin.com/23/player/50235  \n",
            "4     https://www.futbin.com/23/player/63  \n",
            "\n",
            "[5 rows x 76 columns]\n"
          ]
        }
      ]
    },
    {
      "cell_type": "code",
      "source": [
        "top_player_stats = dataset.loc[:0, ['PlayerName', 'Rating', 'SkillMoves', 'WeakFoot', 'PAC', 'SHO', 'PAS', 'DRI', 'DEF', 'PHY']]\n",
        "print(top_player_stats)"
      ],
      "metadata": {
        "colab": {
          "base_uri": "https://localhost:8080/"
        },
        "id": "zFxuYzhZiZm-",
        "outputId": "2f843cd4-844d-4342-9cc5-c786a39d8373"
      },
      "execution_count": 3,
      "outputs": [
        {
          "output_type": "stream",
          "name": "stdout",
          "text": [
            "  PlayerName  Rating  SkillMoves  WeakFoot  PAC  SHO  PAS  DRI  DEF  PHY\n",
            "0       Pelé      98           5         4   95   96   93   96   60   76\n"
          ]
        }
      ]
    },
    {
      "cell_type": "code",
      "source": [
        "stat = \"Popularity\"\n",
        "perfect_stat = dataset #.loc[:, ['PlayerName', 'Rating']]\n",
        "perfect_stat = perfect_stat.drop(perfect_stat[perfect_stat.Card != \"fut23 icon gold rare\"].index)\n",
        "perfect_stat = perfect_stat.sort_values(by = stat, ascending = False)\n",
        "print(perfect_stat.head(20)[[\"PlayerName\", stat, \"Rating\", \"Popularity\"]])\n",
        "# for val in perfect_stat:\n",
        "#   if val[6] != 'fut23 gold rare':\n",
        "#     perfect_stat.drop(val)\n",
        "# print(perfect_stat.loc[:5, ['PlayerName', 'Rating', 'Agility']])"
      ],
      "metadata": {
        "colab": {
          "base_uri": "https://localhost:8080/"
        },
        "id": "phUZtTSHlOok",
        "outputId": "896d4891-e451-44cc-d28f-de27126a238d"
      },
      "execution_count": 8,
      "outputs": [
        {
          "output_type": "stream",
          "name": "stdout",
          "text": [
            "        PlayerName  Popularity  Rating  Popularity\n",
            "155    George Best        3865      90        3865\n",
            "13         Ronaldo        3145      94        3145\n",
            "1          Ronaldo        2854      96        2854\n",
            "83   Gheorghe Hagi        2469      91        2469\n",
            "85    Johan Cruyff        2367      91        2367\n",
            "107     Ronaldinho        2060      91        2060\n",
            "176   Samuel Eto'o        2051      90        2051\n",
            "188    Marcos Cafú        2012      90        2012\n",
            "357   Wayne Rooney        1983      88        1983\n",
            "40   Ferenc Puskás        1928      92        1928\n",
            "0             Pelé        1862      98        1862\n",
            "79         Eusébio        1859      91        1859\n",
            "233        Eusébio        1825      89        1825\n",
            "12      Ronaldinho        1825      94        1825\n",
            "174    Ruud Gullit        1773      90        1773\n",
            "244   Johan Cruyff        1764      89        1764\n",
            "112   Wayne Rooney        1752      91        1752\n",
            "7    Ferenc Puskás        1738      94        1738\n",
            "87            Kaká        1719      91        1719\n",
            "235  Ferenc Puskás        1697      89        1697\n"
          ]
        }
      ]
    }
  ]
}