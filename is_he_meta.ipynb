{
  "nbformat": 4,
  "nbformat_minor": 0,
  "metadata": {
    "colab": {
      "provenance": [],
      "authorship_tag": "ABX9TyP5g+TZsAytoMjVyV7t68yq",
      "include_colab_link": true
    },
    "kernelspec": {
      "name": "python3",
      "display_name": "Python 3"
    },
    "language_info": {
      "name": "python"
    }
  },
  "cells": [
    {
      "cell_type": "markdown",
      "metadata": {
        "id": "view-in-github",
        "colab_type": "text"
      },
      "source": [
        "<a href=\"https://colab.research.google.com/github/StrictHornet/FIFA/blob/main/is_he_meta.ipynb\" target=\"_parent\"><img src=\"https://colab.research.google.com/assets/colab-badge.svg\" alt=\"Open In Colab\"/></a>"
      ]
    },
    {
      "cell_type": "code",
      "execution_count": 1,
      "metadata": {
        "id": "Xt-47HEEgxAJ"
      },
      "outputs": [],
      "source": [
        "import pandas as pd"
      ]
    },
    {
      "cell_type": "code",
      "source": [
        "dataset = pd.read_csv(\"fut.csv\")\n",
        "\n",
        "print(dataset.head(5))"
      ],
      "metadata": {
        "colab": {
          "base_uri": "https://localhost:8080/"
        },
        "id": "6Zgsx-SxhCEi",
        "outputId": "87e28ed1-ace4-4a8c-ba48-b9e91ea05393"
      },
      "execution_count": 2,
      "outputs": [
        {
          "output_type": "stream",
          "name": "stdout",
          "text": [
            "   ID       PlayerName  Rating       Club  Nation NationTop  \\\n",
            "0   1             Pelé      98  FUT ICONS  Brazil    Brazil   \n",
            "1   2          Ronaldo      96  FUT ICONS  Brazil    Brazil   \n",
            "2   3  Zinedine Zidane      96  FUT ICONS  France    France   \n",
            "3   4             Pelé      96  FUT ICONS  Brazil    Brazil   \n",
            "4   5             Pelé      95  FUT ICONS  Brazil    Brazil   \n",
            "\n",
            "                      Card League LeagueTop  SkillMoves  ...  GK_Kicking  \\\n",
            "0     fut23 icon gold rare    ICN       ICN           5  ...         NaN   \n",
            "1     fut23 icon gold rare    ICN       ICN           5  ...         NaN   \n",
            "2     fut23 icon gold rare    ICN       ICN           5  ...         NaN   \n",
            "3  fut23 wc icon gold rare    ICN       ICN           5  ...         NaN   \n",
            "4     fut23 icon gold rare    ICN       ICN           5  ...         NaN   \n",
            "\n",
            "  GK_REFLEXES GK_Reflexes GK_SPEED GK_Acceleration  GK_SprintSpeed  \\\n",
            "0         NaN         NaN      NaN             NaN             NaN   \n",
            "1         NaN         NaN      NaN             NaN             NaN   \n",
            "2         NaN         NaN      NaN             NaN             NaN   \n",
            "3         NaN         NaN      NaN             NaN             NaN   \n",
            "4         NaN         NaN      NaN             NaN             NaN   \n",
            "\n",
            "   GK_POSITIONING  GK_Positioning   isGK  \\\n",
            "0             NaN             NaN  False   \n",
            "1             NaN             NaN  False   \n",
            "2             NaN             NaN  False   \n",
            "3             NaN             NaN  False   \n",
            "4             NaN             NaN  False   \n",
            "\n",
            "                                PlayerURL  \n",
            "0     https://www.futbin.com/23/player/62  \n",
            "1    https://www.futbin.com/23/player/265  \n",
            "2    https://www.futbin.com/23/player/303  \n",
            "3  https://www.futbin.com/23/player/50235  \n",
            "4     https://www.futbin.com/23/player/63  \n",
            "\n",
            "[5 rows x 76 columns]\n"
          ]
        }
      ]
    },
    {
      "cell_type": "code",
      "source": [
        "top_player_stats = dataset.loc[:0, ['PlayerName', 'Rating', 'SkillMoves', 'WeakFoot', 'PAC', 'SHO', 'PAS', 'DRI', 'DEF', 'PHY']]\n",
        "print(top_player_stats)"
      ],
      "metadata": {
        "colab": {
          "base_uri": "https://localhost:8080/"
        },
        "id": "zFxuYzhZiZm-",
        "outputId": "105fef00-927b-4d4d-c040-b31c67d189b9"
      },
      "execution_count": 3,
      "outputs": [
        {
          "output_type": "stream",
          "name": "stdout",
          "text": [
            "  PlayerName  Rating  SkillMoves  WeakFoot  PAC  SHO  PAS  DRI  DEF  PHY\n",
            "0       Pelé      98           5         4   95   96   93   96   60   76\n"
          ]
        }
      ]
    },
    {
      "cell_type": "code",
      "source": [
        "stat = \"SHO\"\n",
        "perfect_stat = dataset #.loc[:, ['PlayerName', 'Rating']]\n",
        "perfect_stat = perfect_stat.loc[perfect_stat['Popularity'] >= 450]\n",
        "perfect_stat = perfect_stat.loc[perfect_stat['Position'] != \"GK\"]\n",
        "perfect_stat = perfect_stat.drop(perfect_stat[perfect_stat.Card != \"fut23 gold rare\"].index)\n",
        "perfect_stat = perfect_stat.sort_values(by = stat, ascending = False)\n",
        "print(perfect_stat.head(20)[[\"PlayerName\", stat, \"Rating\", \"Popularity\"]])\n"
      ],
      "metadata": {
        "colab": {
          "base_uri": "https://localhost:8080/"
        },
        "id": "phUZtTSHlOok",
        "outputId": "d571ce98-03b6-49d6-96bd-eb7560b930dc"
      },
      "execution_count": 19,
      "outputs": [
        {
          "output_type": "stream",
          "name": "stdout",
          "text": [
            "              PlayerName  SHO  Rating  Popularity\n",
            "184    Cristiano Ronaldo   92      90         834\n",
            "116   Robert Lewandowski   91      91        1101\n",
            "277           Harry Kane   91      89         554\n",
            "367       Erling Haaland   91      88        5499\n",
            "119         Lionel Messi   89      91        2200\n",
            "182        Mohamed Salah   89      90        2278\n",
            "272        Heung Min Son   89      89        1690\n",
            "115        Karim Benzema   88      91        3474\n",
            "118      Kevin De Bruyne   88      91        1721\n",
            "1230  Zlatan Ibrahimović   85      82         466\n",
            "622         Paulo Dybala   85      86         577\n",
            "793           Aubameyang   84      85         470\n",
            "775        Memphis Depay   84      85        1204\n",
            "1113        Ángel Correa   84      83         658\n",
            "913    Wissam Ben Yedder   84      84         583\n",
            "271            Neymar Jr   83      89        2209\n",
            "770           Diogo Jota   83      85        1228\n",
            "273           Sadio Mané   83      89        1272\n",
            "1232      Gonçalo Guedes   83      82         596\n",
            "1214        Darwin Núñez   82      82         809\n"
          ]
        }
      ]
    },
    {
      "cell_type": "markdown",
      "source": [
        "Comments"
      ],
      "metadata": {
        "id": "-70MKp5Nn1jy"
      }
    },
    {
      "cell_type": "code",
      "source": [
        "# for val in perfect_stat:\n",
        "#   if val[6] != 'fut23 gold rare':\n",
        "#     perfect_stat.drop(val)\n",
        "# print(perfect_stat.loc[:5, ['PlayerName', 'Rating', 'Agility']])"
      ],
      "metadata": {
        "id": "nvPkCxM9n3an"
      },
      "execution_count": 5,
      "outputs": []
    }
  ]
}