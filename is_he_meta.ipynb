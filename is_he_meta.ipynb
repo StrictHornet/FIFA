{
  "nbformat": 4,
  "nbformat_minor": 0,
  "metadata": {
    "colab": {
      "provenance": [],
      "authorship_tag": "ABX9TyNFW5UtvVk80VkJe898Fswq",
      "include_colab_link": true
    },
    "kernelspec": {
      "name": "python3",
      "display_name": "Python 3"
    },
    "language_info": {
      "name": "python"
    }
  },
  "cells": [
    {
      "cell_type": "markdown",
      "metadata": {
        "id": "view-in-github",
        "colab_type": "text"
      },
      "source": [
        "<a href=\"https://colab.research.google.com/github/StrictHornet/FIFA/blob/main/is_he_meta.ipynb\" target=\"_parent\"><img src=\"https://colab.research.google.com/assets/colab-badge.svg\" alt=\"Open In Colab\"/></a>"
      ]
    },
    {
      "cell_type": "code",
      "execution_count": 2,
      "metadata": {
        "id": "Xt-47HEEgxAJ"
      },
      "outputs": [],
      "source": [
        "import pandas as pd"
      ]
    },
    {
      "cell_type": "code",
      "source": [
        "dataset = pd.read_csv(\"fut.csv\")\n",
        "\n",
        "print(dataset.head(5))"
      ],
      "metadata": {
        "colab": {
          "base_uri": "https://localhost:8080/"
        },
        "id": "6Zgsx-SxhCEi",
        "outputId": "38db8ab4-0169-461a-dd6c-41b891e7bd02"
      },
      "execution_count": 3,
      "outputs": [
        {
          "output_type": "stream",
          "name": "stdout",
          "text": [
            "   ID       PlayerName  Rating       Club  Nation NationTop  \\\n",
            "0   1             Pelé      98  FUT ICONS  Brazil    Brazil   \n",
            "1   2          Ronaldo      96  FUT ICONS  Brazil    Brazil   \n",
            "2   3  Zinedine Zidane      96  FUT ICONS  France    France   \n",
            "3   4             Pelé      96  FUT ICONS  Brazil    Brazil   \n",
            "4   5             Pelé      95  FUT ICONS  Brazil    Brazil   \n",
            "\n",
            "                      Card League LeagueTop  SkillMoves  ...  GK_Kicking  \\\n",
            "0     fut23 icon gold rare    ICN       ICN           5  ...         NaN   \n",
            "1     fut23 icon gold rare    ICN       ICN           5  ...         NaN   \n",
            "2     fut23 icon gold rare    ICN       ICN           5  ...         NaN   \n",
            "3  fut23 wc icon gold rare    ICN       ICN           5  ...         NaN   \n",
            "4     fut23 icon gold rare    ICN       ICN           5  ...         NaN   \n",
            "\n",
            "  GK_REFLEXES GK_Reflexes GK_SPEED GK_Acceleration  GK_SprintSpeed  \\\n",
            "0         NaN         NaN      NaN             NaN             NaN   \n",
            "1         NaN         NaN      NaN             NaN             NaN   \n",
            "2         NaN         NaN      NaN             NaN             NaN   \n",
            "3         NaN         NaN      NaN             NaN             NaN   \n",
            "4         NaN         NaN      NaN             NaN             NaN   \n",
            "\n",
            "   GK_POSITIONING  GK_Positioning   isGK  \\\n",
            "0             NaN             NaN  False   \n",
            "1             NaN             NaN  False   \n",
            "2             NaN             NaN  False   \n",
            "3             NaN             NaN  False   \n",
            "4             NaN             NaN  False   \n",
            "\n",
            "                                PlayerURL  \n",
            "0     https://www.futbin.com/23/player/62  \n",
            "1    https://www.futbin.com/23/player/265  \n",
            "2    https://www.futbin.com/23/player/303  \n",
            "3  https://www.futbin.com/23/player/50235  \n",
            "4     https://www.futbin.com/23/player/63  \n",
            "\n",
            "[5 rows x 76 columns]\n"
          ]
        }
      ]
    },
    {
      "cell_type": "code",
      "source": [
        "top_player_stats = dataset.loc[:0, ['PlayerName', 'Rating', 'SkillMoves', 'WeakFoot', 'PAC', 'SHO', 'PAS', 'DRI', 'DEF', 'PHY']]\n",
        "print(top_player_stats)"
      ],
      "metadata": {
        "colab": {
          "base_uri": "https://localhost:8080/"
        },
        "id": "zFxuYzhZiZm-",
        "outputId": "91f555cd-79a3-4b81-dc9b-9e6e92b37541"
      },
      "execution_count": 4,
      "outputs": [
        {
          "output_type": "stream",
          "name": "stdout",
          "text": [
            "  PlayerName  Rating  SkillMoves  WeakFoot  PAC  SHO  PAS  DRI  DEF  PHY\n",
            "0       Pelé      98           5         4   95   96   93   96   60   76\n"
          ]
        }
      ]
    },
    {
      "cell_type": "code",
      "source": [
        "stat = \"Strength\"\n",
        "perfect_stat = dataset #.loc[:, ['PlayerName', 'Rating']]\n",
        "perfect_stat = perfect_stat.drop(perfect_stat[perfect_stat.Card != \"fut23 gold rare\"].index)\n",
        "perfect_stat = perfect_stat.sort_values(by = stat, ascending = False)\n",
        "print(perfect_stat.head(20)[[\"PlayerName\", stat, \"Rating\"]])\n",
        "# for val in perfect_stat:\n",
        "#   if val[6] != 'fut23 gold rare':\n",
        "#     perfect_stat.drop(val)\n",
        "# print(perfect_stat.loc[:5, ['PlayerName', 'Rating', 'Agility']])"
      ],
      "metadata": {
        "colab": {
          "base_uri": "https://localhost:8080/"
        },
        "id": "phUZtTSHlOok",
        "outputId": "b05de65d-9e93-4658-ba42-14a1b710cdcd"
      },
      "execution_count": 11,
      "outputs": [
        {
          "output_type": "stream",
          "name": "stdout",
          "text": [
            "                   PlayerName  Strength  Rating\n",
            "1131             Duván Zapata        95      83\n",
            "617             Romelu Lukaku        95      86\n",
            "485         Kalidou Koulibaly        94      87\n",
            "782               Niklas Süle        94      85\n",
            "780          Matthijs de Ligt        93      85\n",
            "367            Erling Haaland        93      88\n",
            "1274         Sebastián Coates        93      82\n",
            "183           Virgil van Dijk        93      90\n",
            "1281             Jonathan Tah        92      82\n",
            "1276         Sébastien Haller        92      82\n",
            "1389          Ibrahim Sangaré        91      81\n",
            "920         Giorgio Chiellini        91      84\n",
            "1242       Geoffrey Kondogbia        91      82\n",
            "2292             Joseph Aidoo        91      78\n",
            "2283      Aleksandar Mitrović        91      78\n",
            "490           Antonio Rüdiger        90      87\n",
            "1424                 Palhinha        90      81\n",
            "275                  Casemiro        90      89\n",
            "2149  Konstantinos Mavropanos        90      78\n",
            "2709            Moussa Marega        90      77\n"
          ]
        }
      ]
    }
  ]
}