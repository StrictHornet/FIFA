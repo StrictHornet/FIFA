{
  "nbformat": 4,
  "nbformat_minor": 0,
  "metadata": {
    "colab": {
      "provenance": [],
      "include_colab_link": true
    },
    "kernelspec": {
      "name": "python3",
      "display_name": "Python 3"
    },
    "language_info": {
      "name": "python"
    }
  },
  "cells": [
    {
      "cell_type": "markdown",
      "metadata": {
        "id": "view-in-github",
        "colab_type": "text"
      },
      "source": [
        "<a href=\"https://colab.research.google.com/github/StrictHornet/FIFA/blob/main/is_he_meta.ipynb\" target=\"_parent\"><img src=\"https://colab.research.google.com/assets/colab-badge.svg\" alt=\"Open In Colab\"/></a>"
      ]
    },
    {
      "cell_type": "code",
      "execution_count": null,
      "metadata": {
        "id": "Xt-47HEEgxAJ"
      },
      "outputs": [],
      "source": [
        "import pandas as pd"
      ]
    },
    {
      "cell_type": "code",
      "source": [
        "dataset = pd.read_csv(\"fut.csv\")\n",
        "\n",
        "print(dataset.head(5))"
      ],
      "metadata": {
        "colab": {
          "base_uri": "https://localhost:8080/"
        },
        "id": "6Zgsx-SxhCEi",
        "outputId": "21606edc-4a4b-4000-89e9-7b38552e48a3"
      },
      "execution_count": null,
      "outputs": [
        {
          "output_type": "stream",
          "name": "stdout",
          "text": [
            "   ID       PlayerName  Rating       Club  Nation NationTop  \\\n",
            "0   1             Pelé      98  FUT ICONS  Brazil    Brazil   \n",
            "1   2          Ronaldo      96  FUT ICONS  Brazil    Brazil   \n",
            "2   3  Zinedine Zidane      96  FUT ICONS  France    France   \n",
            "3   4             Pelé      96  FUT ICONS  Brazil    Brazil   \n",
            "4   5             Pelé      95  FUT ICONS  Brazil    Brazil   \n",
            "\n",
            "                      Card League LeagueTop  SkillMoves  ...  GK_Kicking  \\\n",
            "0     fut23 icon gold rare    ICN       ICN           5  ...         NaN   \n",
            "1     fut23 icon gold rare    ICN       ICN           5  ...         NaN   \n",
            "2     fut23 icon gold rare    ICN       ICN           5  ...         NaN   \n",
            "3  fut23 wc icon gold rare    ICN       ICN           5  ...         NaN   \n",
            "4     fut23 icon gold rare    ICN       ICN           5  ...         NaN   \n",
            "\n",
            "  GK_REFLEXES GK_Reflexes GK_SPEED GK_Acceleration  GK_SprintSpeed  \\\n",
            "0         NaN         NaN      NaN             NaN             NaN   \n",
            "1         NaN         NaN      NaN             NaN             NaN   \n",
            "2         NaN         NaN      NaN             NaN             NaN   \n",
            "3         NaN         NaN      NaN             NaN             NaN   \n",
            "4         NaN         NaN      NaN             NaN             NaN   \n",
            "\n",
            "   GK_POSITIONING  GK_Positioning   isGK  \\\n",
            "0             NaN             NaN  False   \n",
            "1             NaN             NaN  False   \n",
            "2             NaN             NaN  False   \n",
            "3             NaN             NaN  False   \n",
            "4             NaN             NaN  False   \n",
            "\n",
            "                                PlayerURL  \n",
            "0     https://www.futbin.com/23/player/62  \n",
            "1    https://www.futbin.com/23/player/265  \n",
            "2    https://www.futbin.com/23/player/303  \n",
            "3  https://www.futbin.com/23/player/50235  \n",
            "4     https://www.futbin.com/23/player/63  \n",
            "\n",
            "[5 rows x 76 columns]\n"
          ]
        }
      ]
    },
    {
      "cell_type": "code",
      "source": [
        "top_player_stats = dataset.loc[:0, ['PlayerName', 'Rating', 'SkillMoves', 'WeakFoot', 'PAC', 'SHO', 'PAS', 'DRI', 'DEF', 'PHY']]\n",
        "print(top_player_stats)"
      ],
      "metadata": {
        "id": "zFxuYzhZiZm-",
        "colab": {
          "base_uri": "https://localhost:8080/"
        },
        "outputId": "f9b1f0f3-245f-4456-a4ec-c914298b3f48"
      },
      "execution_count": null,
      "outputs": [
        {
          "output_type": "stream",
          "name": "stdout",
          "text": [
            "  PlayerName  Rating  SkillMoves  WeakFoot  PAC  SHO  PAS  DRI  DEF  PHY\n",
            "0       Pelé      98           5         4   95   96   93   96   60   76\n"
          ]
        }
      ]
    },
    {
      "cell_type": "code",
      "source": [
        "stat = \"Popularity\"\n",
        "perfect_stat = dataset #.loc[:, ['PlayerName', 'Rating']]\n",
        "perfect_stat = perfect_stat.loc[perfect_stat['Popularity'] >= 450]\n",
        "perfect_stat = perfect_stat.loc[perfect_stat['Position'] != \"GK\"]\n",
        "perfect_stat = perfect_stat.drop(perfect_stat[perfect_stat.Card != \"fut23 gold rare\"].index)\n",
        "#perfect_stat = perfect_stat.drop(perfect_stat[perfect_stat.BodyType == \"Average\"].index)\n",
        "perfect_stat = perfect_stat.sort_values(by = stat, ascending = True)\n",
        "print(perfect_stat.head(50)[[\"PlayerName\", stat, \"Rating\", \"Popularity\", \"BodyType\"]])\n"
      ],
      "metadata": {
        "colab": {
          "base_uri": "https://localhost:8080/"
        },
        "id": "phUZtTSHlOok",
        "outputId": "81c4aa31-1e03-4de8-ff36-ade0e6dc5990"
      },
      "execution_count": null,
      "outputs": [
        {
          "output_type": "stream",
          "name": "stdout",
          "text": [
            "               PlayerName  Popularity  Rating  Popularity       BodyType\n",
            "621        Milan Škriniar         455      86         455         Unique\n",
            "1230   Zlatan Ibrahimović         466      82         466         Unique\n",
            "793            Aubameyang         470      85         470         Unique\n",
            "1228        Wilfried Zaha         487      82         487         Unique\n",
            "1368        Jamal Musiala         487      81         487           Lean\n",
            "1116         Thomas Lemar         516      83         516           Lean\n",
            "1593          Nuno Mendes         522      80         522           Lean\n",
            "277            Harry Kane         554      89         554         Unique\n",
            "1925       Tyrell Malacia         567      79         567    Short&Lean-\n",
            "887            João Félix         571      84         571         Unique\n",
            "622          Paulo Dybala         577      86         577         Unique\n",
            "609           David Alaba         582      86         582        Average\n",
            "913     Wissam Ben Yedder         583      84         583         Unique\n",
            "619        Nicolò Barella         588      86         588    Short&Lean-\n",
            "1369              Rodrygo         596      81         596           Lean\n",
            "1232       Gonçalo Guedes         596      82         596        Average\n",
            "1596     Jeremie Frimpong         613      80         613        Average\n",
            "1829         Adama Traoré         616      79         616         Unique\n",
            "275              Casemiro         643      89         643         Unique\n",
            "1096        Juan Cuadrado         645      83         645           Lean\n",
            "1113         Ángel Correa         658      83         658        Average\n",
            "374           Luka Modric         670      88         670           Lean\n",
            "611        Kingsley Coman         687      86         687         Unique\n",
            "369            Marquinhos         696      88         696        Average\n",
            "789            Phil Foden         698      85         698           Lean\n",
            "371            Rúben Dias         705      88         705   High&Average\n",
            "896       Federico Chiesa         734      84         734        Average\n",
            "1221          Timo Werner         737      82         737         Unique\n",
            "893             Luis Díaz         747      84         747           Lean\n",
            "902          Moussa Diaby         771      84         771    Short&Lean-\n",
            "882       Jude Bellingham         786      84         786  High&Average+\n",
            "1214         Darwin Núñez         809      82         809  High&Average+\n",
            "184     Cristiano Ronaldo         834      90         834            CR7\n",
            "911         Achraf Hakimi         850      84         850           Lean\n",
            "1105     Presnel Kimpembe         869      83         869   High&Average\n",
            "916         Sandro Tonali         871      84         871         Unique\n",
            "891           Reece James         891      84         891         Stocky\n",
            "774           Nabil Fekir         916      85         916         Stocky\n",
            "370        Bernardo Silva         919      88         919           Lean\n",
            "606       Raheem Sterling         919      86         919         Unique\n",
            "886       Alphonso Davies         957      84         957         Unique\n",
            "492         Leon Goretzka        1030      87        1030         Unique\n",
            "1219  Aurélien Tchouaméni        1038      82        1038  High&Average+\n",
            "1375  Allan Saint-Maximin        1099      81        1099         Stocky\n",
            "116    Robert Lewandowski        1101      91        1101         Unique\n",
            "1374      Marcus Rashford        1118      81        1118         Unique\n",
            "1120        Gabriel Jesus        1156      83        1156         Unique\n",
            "1114             Raphinha        1172      83        1172           Lean\n",
            "775         Memphis Depay        1204      85        1204         Unique\n",
            "770            Diogo Jota        1228      85        1228        Average\n"
          ]
        }
      ]
    },
    {
      "cell_type": "markdown",
      "source": [
        "Comments"
      ],
      "metadata": {
        "id": "-70MKp5Nn1jy"
      }
    },
    {
      "cell_type": "code",
      "source": [
        "# for val in perfect_stat:\n",
        "#   if val[6] != 'fut23 gold rare':\n",
        "#     perfect_stat.drop(val)\n",
        "# print(perfect_stat.loc[:5, ['PlayerName', 'Rating', 'Agility']])"
      ],
      "metadata": {
        "id": "nvPkCxM9n3an"
      },
      "execution_count": null,
      "outputs": []
    }
  ]
}